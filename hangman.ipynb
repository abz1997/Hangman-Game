{
 "cells": [
  {
   "cell_type": "code",
   "execution_count": 76,
   "id": "8c22366f",
   "metadata": {},
   "outputs": [
    {
     "name": "stdout",
     "output_type": "stream",
     "text": [
      "The mystery word has 0 characters\n",
      "[]\n",
      "Enter a Letter: q\n",
      "Sorry, q is not in the word.\n",
      "You have 4 lives left.\n",
      "['_', '_', '_', '_']\n",
      "Enter a Letter: w\n",
      "Sorry, w is not in the word.\n",
      "You have 3 lives left.\n",
      "['_', '_', '_', '_']\n",
      "Enter a Letter: r\n",
      "Nice! r is in the word!\n",
      "['_', '_', '_', 'r']\n",
      "Enter a Letter: t\n",
      "Sorry, t is not in the word.\n",
      "You have 2 lives left.\n",
      "['_', '_', '_', 'r']\n",
      "Enter a Letter: y\n",
      "Sorry, y is not in the word.\n",
      "You have 1 lives left.\n",
      "['_', '_', '_', 'r']\n",
      "Enter a Letter: u\n",
      "Sorry, u is not in the word.\n",
      "You have 0 lives left.\n",
      "['_', '_', '_', 'r']\n"
     ]
    },
    {
     "ename": "NameError",
     "evalue": "name 'self' is not defined",
     "output_type": "error",
     "traceback": [
      "\u001b[1;31m---------------------------------------------------------------------------\u001b[0m",
      "\u001b[1;31mNameError\u001b[0m                                 Traceback (most recent call last)",
      "\u001b[1;32m~\\AppData\\Local\\Temp/ipykernel_1095300/325281093.py\u001b[0m in \u001b[0;36m<module>\u001b[1;34m\u001b[0m\n\u001b[0;32m     93\u001b[0m     \u001b[0mword_guessed\u001b[0m \u001b[1;33m=\u001b[0m \u001b[1;33m[\u001b[0m\u001b[1;33m]\u001b[0m\u001b[1;33m\u001b[0m\u001b[1;33m\u001b[0m\u001b[0m\n\u001b[0;32m     94\u001b[0m     \u001b[1;31m#num_letters = 0\u001b[0m\u001b[1;33m\u001b[0m\u001b[1;33m\u001b[0m\u001b[0m\n\u001b[1;32m---> 95\u001b[1;33m     \u001b[0mplay_game\u001b[0m\u001b[1;33m(\u001b[0m\u001b[0mword_list\u001b[0m\u001b[1;33m)\u001b[0m\u001b[1;33m\u001b[0m\u001b[1;33m\u001b[0m\u001b[0m\n\u001b[0m\u001b[0;32m     96\u001b[0m \u001b[1;31m# %%\u001b[0m\u001b[1;33m\u001b[0m\u001b[1;33m\u001b[0m\u001b[0m\n",
      "\u001b[1;32m~\\AppData\\Local\\Temp/ipykernel_1095300/325281093.py\u001b[0m in \u001b[0;36mplay_game\u001b[1;34m(word_list)\u001b[0m\n\u001b[0;32m     82\u001b[0m     \u001b[1;31m# If the user guesses the word, print \"Congratulations! You won!\"\u001b[0m\u001b[1;33m\u001b[0m\u001b[1;33m\u001b[0m\u001b[0m\n\u001b[0;32m     83\u001b[0m     \u001b[1;31m# If the user runs out of lives, print \"You lost! The word was {word}\"\u001b[0m\u001b[1;33m\u001b[0m\u001b[1;33m\u001b[0m\u001b[0m\n\u001b[1;32m---> 84\u001b[1;33m     \u001b[1;32mif\u001b[0m \u001b[0mself\u001b[0m\u001b[1;33m.\u001b[0m\u001b[0mnum_lives\u001b[0m \u001b[1;33m==\u001b[0m \u001b[1;36m0\u001b[0m\u001b[1;33m:\u001b[0m\u001b[1;33m\u001b[0m\u001b[1;33m\u001b[0m\u001b[0m\n\u001b[0m\u001b[0;32m     85\u001b[0m         \u001b[0mprint\u001b[0m\u001b[1;33m(\u001b[0m\u001b[1;34mf\"You lost! The word was {word}\"\u001b[0m\u001b[1;33m)\u001b[0m\u001b[1;33m\u001b[0m\u001b[1;33m\u001b[0m\u001b[0m\n\u001b[0;32m     86\u001b[0m \u001b[1;33m\u001b[0m\u001b[0m\n",
      "\u001b[1;31mNameError\u001b[0m: name 'self' is not defined"
     ]
    }
   ],
   "source": [
    "import random\n",
    "\n",
    "class Hangman:\n",
    "\n",
    "    def __init__(self, word_list, word, word_guessed, num_letters, list_letters, num_lives=5):\n",
    "        # TODO 2: Initialize the attributes as indicated in the docstring\n",
    "        self.word_list = word_list\n",
    "        self.word = word\n",
    "        self.word_guessed = word_guessed\n",
    "        self.num_letters = num_letters\n",
    "        self.list_letters = list_letters\n",
    "        self.num_lives = num_lives\n",
    "        # TODO 2: Print two message upon initialization:\n",
    "        print(f\"The mystery word has {num_letters} characters\")\n",
    "        print(f\"{word_guessed}\")\n",
    "        for i in range(len(word)):\n",
    "            self.word_guessed.append(\"_\")\n",
    "        # 1. \"The mistery word has {num_letters} characters\"\n",
    "        # 2. {word_guessed}\n",
    "        pass\n",
    "\n",
    "    def check_letter(self, letter):# -> None:\n",
    "        # TODO 3: Check if the letter is in the word. TIP: You can use the lower() method to convert the letter to lowercase\n",
    "        for i in range(len(self.word)):\n",
    "            if letter.lower() in self.word[i]:\n",
    "                word_guessed[i] = letter\n",
    "                print(f'Nice! {letter} is in the word!')\n",
    "        \n",
    "                uniques = []\n",
    "                list1 = list(word_guessed)\n",
    "                for i in list1:\n",
    "                    if list1.count(i) == 1:\n",
    "                        uniques.append(i)\n",
    "                    else:\n",
    "                        pass\n",
    "                num_letters = len(uniques)\n",
    "                num_letters = num_letters-1\n",
    "            elif letter.lower() not in self.word:\n",
    "                self.num_lives = self.num_lives - 1\n",
    "                print(f'Sorry, {letter} is not in the word.')\n",
    "                print(f'You have {self.num_lives} lives left.')\n",
    "                break\n",
    "        print(word_guessed)\n",
    "        #Hangman.ask_letter(self)\n",
    "        \n",
    "        # TODO 3: If the letter is in the word, replace the '_' in the word_guessed list with the letter\n",
    "        # TODO 3: If the letter is in the word, the number of UNIQUE letters in the word that have not been guessed yet has to be reduced by 1\n",
    "        \n",
    "        # TODO 3: If the letter is not in the word, reduce the number of lives by 1\n",
    "        # Be careful! A letter can contain the same letter more than once. TIP: Take a look at the index() method in the string class\n",
    "        \n",
    "    \n",
    "    def ask_letter(self):\n",
    "        # TODO 1: Ask the user for a letter iteratively until the user enters a valid letter\n",
    "        while self.num_lives > 0:\n",
    "            \n",
    "        # TODO 1: Assign the letter to a variable called `letter`\n",
    "            letter = input(\"Enter a Letter: \")\n",
    "        # TODO 1: The letter has to comply with the following criteria: It has to be a single character. If it is not, print \"Please, enter just one character\"\n",
    "            if len(letter) > 1:\n",
    "                    print(\"Please, enter just one character\")\n",
    "            elif letter not in list_letters:\n",
    "                list_letters.append(letter)\n",
    "                Hangman.check_letter(self,letter)\n",
    "        # TODO 2. It has to be a letter that has not been tried yet. Use the list_letters attribute to check this. If it has been tried, print \"{letter} was already tried\".\n",
    "            else:\n",
    "                print (f\"{letter} was already tried\")\n",
    "        # TODO 3: If the letter is valid, call the check_letter method\n",
    "    \n",
    "    \n",
    "\n",
    "\n",
    "def play_game(word_list):\n",
    "    # As an aid, part of the code is already provided:\n",
    "    game = Hangman(word_list, word, word_guessed, num_letters, list_letters, num_lives=5)\n",
    "    # TODO 1: To test this task, you can call the ask_letter method\n",
    "    game.ask_letter()\n",
    "    # TODO 2: To test this task, upon initialization, two messages should be printed \n",
    "    # TODO 3: To test this task, you call the ask_letter method and check if the letter is in the word\n",
    "    \n",
    "    # TODO 4: Iteratively ask the user for a letter until the user guesses the word or runs out of lives\n",
    "    # If the user guesses the word, print \"Congratulations! You won!\"\n",
    "    # If the user runs out of lives, print \"You lost! The word was {word}\"\n",
    "    if num_lives == 0:\n",
    "        print(f\"You lost! The word was {word}\")\n",
    "    else:\n",
    "        print(\"Congratulations! You won!\")\n",
    "\n",
    "\n",
    "\n",
    "if __name__ == '__main__':\n",
    "    word_list = ['apple', 'banana', 'orange', 'pear', 'strawberry', 'watermelon']\n",
    "    list_letters = []\n",
    "    word = random.choice(word_list)\n",
    "    word_guessed = []\n",
    "    #num_letters = 0\n",
    "    play_game(word_list)\n",
    "# %%"
   ]
  },
  {
   "cell_type": "code",
   "execution_count": null,
   "id": "03f747c0",
   "metadata": {},
   "outputs": [],
   "source": [
    "print(list_letters)"
   ]
  },
  {
   "cell_type": "code",
   "execution_count": 50,
   "id": "6abc82ac",
   "metadata": {},
   "outputs": [
    {
     "name": "stdout",
     "output_type": "stream",
     "text": [
      "letter: a\n"
     ]
    },
    {
     "data": {
      "text/plain": [
       "['_', 'a', '_', '_', '_', '_', '_', '_', '_', '_']"
      ]
     },
     "execution_count": 50,
     "metadata": {},
     "output_type": "execute_result"
    }
   ],
   "source": [
    "word_list = ['apple', 'banana', 'orange', 'pear', 'strawberry', 'watermelon']\n",
    "num_lives = 5\n",
    "word = random.choice(word_list)\n",
    "word_guessed =[]\n",
    "for i in range(len(word)):\n",
    "    word_guessed.append(\"_\")\n",
    "def guess(letter):\n",
    "    for i in range(len(word_guessed)):\n",
    "        if letter in word[i]:\n",
    "            word_guessed[i] = letter\n",
    "        else:\n",
    "            num_lives = num_lives-1\n",
    "    return word_guessed\n",
    "\n",
    "        \n",
    "guess(input(\"letter: \"))"
   ]
  },
  {
   "cell_type": "code",
   "execution_count": 51,
   "id": "b1e96dd3",
   "metadata": {},
   "outputs": [
    {
     "name": "stdout",
     "output_type": "stream",
     "text": [
      "letter: w\n"
     ]
    },
    {
     "data": {
      "text/plain": [
       "['w', 'a', '_', '_', '_', '_', '_', '_', '_', '_']"
      ]
     },
     "execution_count": 51,
     "metadata": {},
     "output_type": "execute_result"
    }
   ],
   "source": [
    "def guess(letter):\n",
    "    for i in range(len(word_guessed)):\n",
    "        if letter in word[i]:\n",
    "            word_guessed[i] = letter\n",
    "    return word_guessed\n",
    "        \n",
    "guess(input(\"letter: \"))"
   ]
  },
  {
   "cell_type": "code",
   "execution_count": 70,
   "id": "8d913b3b",
   "metadata": {},
   "outputs": [
    {
     "name": "stdout",
     "output_type": "stream",
     "text": [
      "4\n"
     ]
    }
   ],
   "source": [
    "uniques = []\n",
    "list1 = list(\"word\")\n",
    "for i in list1:\n",
    "    if list1.count(i) == 1:\n",
    "        uniques.append(i)\n",
    "    else:\n",
    "        pass\n",
    "num_letters = len(uniques)\n",
    "print(num_letters)"
   ]
  },
  {
   "cell_type": "code",
   "execution_count": 10,
   "id": "a096dbf5",
   "metadata": {},
   "outputs": [
    {
     "name": "stdout",
     "output_type": "stream",
     "text": [
      "[4, 35]\n"
     ]
    }
   ],
   "source": [
    "list1 = [1,2,3,4,2,1,3,2,35]\n",
    "list2 = []\n",
    "\n",
    "for i in list1:\n",
    "    if list1.count(i)== 1:\n",
    "        list2.append(i)\n",
    "\n",
    "        \n",
    "print(list2)"
   ]
  },
  {
   "cell_type": "code",
   "execution_count": null,
   "id": "1aef092b",
   "metadata": {},
   "outputs": [],
   "source": []
  }
 ],
 "metadata": {
  "kernelspec": {
   "display_name": "Python 3 (ipykernel)",
   "language": "python",
   "name": "python3"
  },
  "language_info": {
   "codemirror_mode": {
    "name": "ipython",
    "version": 3
   },
   "file_extension": ".py",
   "mimetype": "text/x-python",
   "name": "python",
   "nbconvert_exporter": "python",
   "pygments_lexer": "ipython3",
   "version": "3.9.7"
  }
 },
 "nbformat": 4,
 "nbformat_minor": 5
}
